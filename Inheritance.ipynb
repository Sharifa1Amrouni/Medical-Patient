{
 "cells": [
  {
   "cell_type": "code",
   "execution_count": 2,
   "id": "3618eb57",
   "metadata": {},
   "outputs": [],
   "source": [
    "class Patient(object):\n",
    "     ''' Medical centre patient'''\n",
    "     \n",
    "     status = 'patient'\n",
    "     \n",
    "     def __init__(self,name,age):\n",
    "         self.name = name \n",
    "         self.age = age \n",
    "         self.conditions = []\n",
    "            \n",
    "     \n",
    "    \n",
    "     def get_details(self):\n",
    "            print(f'Patient record: {self.name}, {self.age} years.'\\\n",
    "                 f'current information: {self.conditions}.')\n",
    "            \n",
    "     def add_info(self,information):\n",
    "           self.conditions.append(information)"
   ]
  },
  {
   "cell_type": "code",
   "execution_count": 3,
   "id": "f16a8125",
   "metadata": {},
   "outputs": [],
   "source": [
    "class Infant(Patient):\n",
    "    ''' Patient under 2 years'''\n",
    "    \n",
    "    def __init__(self,name,age):\n",
    "        self.vaccinations = []\n",
    "        super().__init__(name,age)\n",
    "        \n",
    "    def add_vac(self,vaccine):\n",
    "        self.vaccinations.append(vaccine)\n",
    "        \n",
    "    def get_details(self):\n",
    "         print(f'Patient record: {self.name}, {self.age} years.' \\\n",
    "               f' Patient has had {self.vaccinations} vaccines.' \\\n",
    "               f' Current information: {self.conditions}.' \\\n",
    "               f'\\n{self.name} IS AN INFANT, HAS HE HAD ALL HIS CHECKS?')"
   ]
  },
  {
   "cell_type": "code",
   "execution_count": 5,
   "id": "416634f9",
   "metadata": {},
   "outputs": [],
   "source": [
    "archie = Infant('archie itlle',0)"
   ]
  },
  {
   "cell_type": "code",
   "execution_count": 6,
   "id": "13ae1b0b",
   "metadata": {},
   "outputs": [],
   "source": [
    "archie.add_vac('MMR')"
   ]
  },
  {
   "cell_type": "code",
   "execution_count": 7,
   "id": "3e58cbe1",
   "metadata": {},
   "outputs": [
    {
     "name": "stdout",
     "output_type": "stream",
     "text": [
      "Patient record: archie itlle, 0 years. Patient has had ['MMR'] vaccines. Current information: [].\n",
      "archie itlle IS AN INFANT, HAS HE HAD ALL HIS CHECKS?\n"
     ]
    }
   ],
   "source": [
    "archie.get_details()"
   ]
  },
  {
   "cell_type": "code",
   "execution_count": null,
   "id": "c94d7817",
   "metadata": {},
   "outputs": [],
   "source": []
  }
 ],
 "metadata": {
  "kernelspec": {
   "display_name": "Python 3 (ipykernel)",
   "language": "python",
   "name": "python3"
  },
  "language_info": {
   "codemirror_mode": {
    "name": "ipython",
    "version": 3
   },
   "file_extension": ".py",
   "mimetype": "text/x-python",
   "name": "python",
   "nbconvert_exporter": "python",
   "pygments_lexer": "ipython3",
   "version": "3.9.12"
  }
 },
 "nbformat": 4,
 "nbformat_minor": 5
}
